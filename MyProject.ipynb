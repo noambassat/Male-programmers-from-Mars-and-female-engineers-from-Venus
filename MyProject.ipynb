{
 "cells": [
  {
   "cell_type": "code",
   "execution_count": null,
   "metadata": {},
   "outputs": [],
   "source": [
    "pip install selenium\n"
   ]
  },
  {
   "cell_type": "code",
   "execution_count": 264,
   "metadata": {},
   "outputs": [
    {
     "name": "stdout",
     "output_type": "stream",
     "text": [
      "Requirement already satisfied: webdriver_manager in c:\\users\\noam\\anaconda3\\lib\\site-packages (3.2.2)\n",
      "Requirement already satisfied: configparser in c:\\users\\noam\\anaconda3\\lib\\site-packages (from webdriver_manager) (5.0.1)\n",
      "Requirement already satisfied: crayons in c:\\users\\noam\\anaconda3\\lib\\site-packages (from webdriver_manager) (0.4.0)\n",
      "Requirement already satisfied: requests in c:\\users\\noam\\anaconda3\\lib\\site-packages (from webdriver_manager) (2.24.0)\n",
      "Requirement already satisfied: colorama in c:\\users\\noam\\anaconda3\\lib\\site-packages (from crayons->webdriver_manager) (0.4.3)\n",
      "Requirement already satisfied: certifi>=2017.4.17 in c:\\users\\noam\\anaconda3\\lib\\site-packages (from requests->webdriver_manager) (2020.6.20)\n",
      "Requirement already satisfied: idna<3,>=2.5 in c:\\users\\noam\\anaconda3\\lib\\site-packages (from requests->webdriver_manager) (2.10)\n",
      "Requirement already satisfied: urllib3!=1.25.0,!=1.25.1,<1.26,>=1.21.1 in c:\\users\\noam\\anaconda3\\lib\\site-packages (from requests->webdriver_manager) (1.25.9)\n",
      "Requirement already satisfied: chardet<4,>=3.0.2 in c:\\users\\noam\\anaconda3\\lib\\site-packages (from requests->webdriver_manager) (3.0.4)\n",
      "Note: you may need to restart the kernel to use updated packages.\n"
     ]
    }
   ],
   "source": [
    "pip install webdriver_manager\n"
   ]
  },
  {
   "cell_type": "code",
   "execution_count": 265,
   "metadata": {},
   "outputs": [],
   "source": [
    "from selenium import webdriver\n",
    "from selenium.webdriver.common.keys import Keys\n",
    "\n",
    "from webdriver_manager.chrome import ChromeDriverManager\n",
    "from bs4 import BeautifulSoup\n",
    "import time\n",
    "import pandas as pd"
   ]
  },
  {
   "cell_type": "code",
   "execution_count": 267,
   "metadata": {
    "scrolled": true
   },
   "outputs": [
    {
     "name": "stderr",
     "output_type": "stream",
     "text": [
      "[WDM] - Current google-chrome version is 87.0.4280\n",
      "[WDM] - Get LATEST driver version for 87.0.4280\n"
     ]
    },
    {
     "name": "stdout",
     "output_type": "stream",
     "text": [
      " \n"
     ]
    },
    {
     "name": "stderr",
     "output_type": "stream",
     "text": [
      "[WDM] - Driver [C:\\Users\\Noam\\.wdm\\drivers\\chromedriver\\win32\\87.0.4280.20\\chromedriver.exe] found in cache\n"
     ]
    }
   ],
   "source": [
    "driver = webdriver.Chrome(ChromeDriverManager().install())"
   ]
  },
  {
   "cell_type": "code",
   "execution_count": 268,
   "metadata": {},
   "outputs": [
    {
     "name": "stderr",
     "output_type": "stream",
     "text": [
      "[WDM] - Current google-chrome version is 87.0.4280\n",
      "[WDM] - Get LATEST driver version for 87.0.4280\n",
      "[WDM] - Driver [C:\\Users\\Noam\\.wdm\\drivers\\chromedriver\\win32\\87.0.4280.20\\chromedriver.exe] found in cache\n"
     ]
    },
    {
     "name": "stdout",
     "output_type": "stream",
     "text": [
      " \n"
     ]
    }
   ],
   "source": [
    "driver = webdriver.Chrome(ChromeDriverManager().install())\n",
    "def login():   \n",
    "    url = 'https://www.coderbyte.com/solution/Bracket%20Matcher'\n",
    "    userName = 'nnnnb'\n",
    "    password = '12334'\n",
    "    driver.get(url)\n",
    "    time.sleep(5)\n",
    "    driver.find_element_by_class_name(\"login-link\").click()\n",
    "    time.sleep(2)\n",
    "    driver.find_element_by_class_name(\"mode-toggle-option\").click()\n",
    "    time.sleep(1)\n",
    "    driver.find_element_by_class_name(\"login-field-input\").send_keys(userName)\n",
    "    time.sleep(1)\n",
    "    driver.find_element_by_css_selector(\"input[type='password']\").send_keys(password)\n",
    "    time.sleep(1)\n",
    "    xpath = '//*[@id=\"login\"]/div/div/div/div[1]/div[3]/button'\n",
    "    driver.find_element_by_xpath(xpath).click()\n",
    "    time.sleep(2)\n"
   ]
  },
  {
   "cell_type": "code",
   "execution_count": 269,
   "metadata": {},
   "outputs": [],
   "source": [
    "#login()"
   ]
  },
  {
   "cell_type": "code",
   "execution_count": 280,
   "metadata": {},
   "outputs": [],
   "source": [
    "def selectLang(lang):\n",
    "    url = 'https://www.coderbyte.com/solution/Bracket%20Matcher'\n",
    "    driver.get(url)\n",
    "    time.sleep(3)\n",
    "\n",
    "    xpath = '//*[@id=\"challenge_leaderboard\"]/div/div/div[2]/div/div[2]/span'\n",
    "    driver.find_element_by_xpath(xpath).click()\n",
    "    time.sleep(1)\n",
    "    driver.find_element_by_css_selector(\"input[type='text']\").send_keys(lang)\n",
    "    time.sleep(1)\n",
    "    driver.find_element_by_css_selector(\"input[type='text']\").send_keys(Keys.ENTER)\n",
    "\n",
    "    \n",
    "def data_process(html,lang):\n",
    "    clean_data_list = []\n",
    "\n",
    "    soup = BeautifulSoup(html, 'html.parser')\n",
    "    cards = soup.find_all(\"div\", {\"class\": \"comment card\"})\n",
    "\n",
    "    for card in cards:\n",
    "        data_dict = {}\n",
    "        sol_code = card.find(\"code\",{\"class\":\"hljs\"})\n",
    "        sol_card = card.find(\"div\",{\"class\":\"submitter\"})\n",
    "        data_dict['User_Name'] = sol_card.find('a').text\n",
    "        data_dict['User_img'] = sol_card.find('img')['src']\n",
    "        data_dict['User_url'] = sol_card.find('a')['href']\n",
    "        data_dict['Challange_Name'] = []\n",
    "        data_dict['Programming_Lang'] = lang\n",
    "        data_dict['Sol_Code'] = sol_code\n",
    "        data_dict['User_Score'] = sol_card.find('strong').text.strip()\n",
    "        data_dict[\"User's_Likes\"] = []\n",
    "        data_dict[\"User_Gender\"] = []\n",
    "        \n",
    "        clean_data_list.append(data_dict)\n",
    "    \n",
    "    return clean_data_list"
   ]
  },
  {
   "cell_type": "code",
   "execution_count": 281,
   "metadata": {},
   "outputs": [],
   "source": [
    "lang_name = 'Java'\n",
    "selectLang(lang_name)"
   ]
  },
  {
   "cell_type": "code",
   "execution_count": 282,
   "metadata": {},
   "outputs": [],
   "source": [
    "html = driver.page_source\n",
    "clean_data_list = data_process(html,lang_name)"
   ]
  },
  {
   "cell_type": "code",
   "execution_count": 283,
   "metadata": {},
   "outputs": [
    {
     "name": "stdout",
     "output_type": "stream",
     "text": [
      "           User_Name                                           User_img  \\\n",
      "0          arcavious  https://s3-us-west-1.amazonaws.com/coderbytepr...   \n",
      "1         yawbrobbey  https://s3-us-west-1.amazonaws.com/coderbytepr...   \n",
      "2             richhy  https://s3-us-west-1.amazonaws.com/coderbytepr...   \n",
      "3          kadams919  https://s3-us-west-1.amazonaws.com/coderbytepr...   \n",
      "4           poohbear  https://s3-us-west-1.amazonaws.com/coderbytepr...   \n",
      "5           pipo1991  https://s3-us-west-1.amazonaws.com/coderbytepr...   \n",
      "6           deeteear  https://s3-us-west-1.amazonaws.com/coderbytepr...   \n",
      "7              JETBi  https://s3-us-west-1.amazonaws.com/coderbytepr...   \n",
      "8           zawiczek  https://s3-us-west-1.amazonaws.com/coderbytepr...   \n",
      "9              znxz1  https://s3-us-west-1.amazonaws.com/coderbytepr...   \n",
      "10         Redmanter  https://s3-us-west-1.amazonaws.com/coderbytepr...   \n",
      "11             Vilya  https://s3-us-west-1.amazonaws.com/coderbytepr...   \n",
      "12         KSmithson  https://s3-us-west-1.amazonaws.com/coderbytepr...   \n",
      "13        nicklivens  https://s3-us-west-1.amazonaws.com/coderbytepr...   \n",
      "14          k8conant  https://s3-us-west-1.amazonaws.com/coderbytepr...   \n",
      "15           Niliyam  https://s3-us-west-1.amazonaws.com/coderbytepr...   \n",
      "16           binfeng  https://s3-us-west-1.amazonaws.com/coderbytepr...   \n",
      "17           ph4ntom  https://s3-us-west-1.amazonaws.com/coderbytepr...   \n",
      "18      AjeethKannan  https://s3-us-west-1.amazonaws.com/coderbytepr...   \n",
      "19         mikejagen  https://s3-us-west-1.amazonaws.com/coderbytepr...   \n",
      "20            jakmaj  https://s3-us-west-1.amazonaws.com/coderbytepr...   \n",
      "21          danaksim  https://s3-us-west-1.amazonaws.com/coderbytepr...   \n",
      "22          tonichen  https://s3-us-west-1.amazonaws.com/coderbytepr...   \n",
      "23           hekra01  https://s3-us-west-1.amazonaws.com/coderbytepr...   \n",
      "24           Zoulfia  https://s3-us-west-1.amazonaws.com/coderbytepr...   \n",
      "25    debasisdwivedy  https://s3-us-west-1.amazonaws.com/coderbytepr...   \n",
      "26           arjnklc  https://s3-us-west-1.amazonaws.com/coderbytepr...   \n",
      "27          ddwivedy  https://s3-us-west-1.amazonaws.com/coderbytepr...   \n",
      "28  himanshusharma18  https://s3-us-west-1.amazonaws.com/coderbytepr...   \n",
      "29       DeviousBard  https://s3-us-west-1.amazonaws.com/coderbytepr...   \n",
      "\n",
      "                     User_url Challange_Name Programming_Lang  \\\n",
      "0          /profile/arcavious             []             Java   \n",
      "1         /profile/yawbrobbey             []             Java   \n",
      "2             /profile/richhy             []             Java   \n",
      "3          /profile/kadams919             []             Java   \n",
      "4           /profile/poohbear             []             Java   \n",
      "5           /profile/pipo1991             []             Java   \n",
      "6           /profile/deeteear             []             Java   \n",
      "7              /profile/JETBi             []             Java   \n",
      "8           /profile/zawiczek             []             Java   \n",
      "9              /profile/znxz1             []             Java   \n",
      "10         /profile/Redmanter             []             Java   \n",
      "11             /profile/Vilya             []             Java   \n",
      "12         /profile/KSmithson             []             Java   \n",
      "13        /profile/nicklivens             []             Java   \n",
      "14          /profile/k8conant             []             Java   \n",
      "15           /profile/Niliyam             []             Java   \n",
      "16           /profile/binfeng             []             Java   \n",
      "17           /profile/ph4ntom             []             Java   \n",
      "18      /profile/AjeethKannan             []             Java   \n",
      "19         /profile/mikejagen             []             Java   \n",
      "20            /profile/jakmaj             []             Java   \n",
      "21          /profile/danaksim             []             Java   \n",
      "22          /profile/tonichen             []             Java   \n",
      "23           /profile/hekra01             []             Java   \n",
      "24           /profile/Zoulfia             []             Java   \n",
      "25    /profile/debasisdwivedy             []             Java   \n",
      "26           /profile/arjnklc             []             Java   \n",
      "27          /profile/ddwivedy             []             Java   \n",
      "28  /profile/himanshusharma18             []             Java   \n",
      "29       /profile/DeviousBard             []             Java   \n",
      "\n",
      "                                             Sol_Code User_Score User's_Likes  \\\n",
      "0   [[import],  java.util.*; \\n, [import],  java.i...         10           []   \n",
      "1   [[import],  java.util.*;\\n, [import],  java.io...         10           []   \n",
      "2   [[import],  java.util.*; \\n, [import],  java.i...         10           []   \n",
      "3   [[import],  java.util.*; \\n, [import],  java.i...         10           []   \n",
      "4   [[import],  java.util.*; \\n, [import],  java.i...         10           []   \n",
      "5   [[import],  java.util.*; \\n, [import],  java.i...         10           []   \n",
      "6   [[import],  java.util.*; \\n, [import],  java.i...         10           []   \n",
      "7   [[import],  java.util.*; \\n, [import],  java.i...         10           []   \n",
      "8   [[import],  java.util.*; \\n, [import],  java.i...         10           []   \n",
      "9   [[import],  java.util.*; \\n, [import],  java.i...         10           []   \n",
      "10  [[import],  java.util.*; \\n, [import],  java.i...         10           []   \n",
      "11  [[import],  java.util.*; \\n, [import],  java.i...         10           []   \n",
      "12  [[import],  java.util.*; \\n, [import],  java.i...         10           []   \n",
      "13  [[import],  java.util.*; \\n, [import],  java.i...         10           []   \n",
      "14  [[import],  java.util.*; \\n, [import],  java.i...         10           []   \n",
      "15  [[import],  java.util.*; \\n, [import],  java.i...         10           []   \n",
      "16  [[import],  java.util.*; \\n, [import],  java.i...         10           []   \n",
      "17  [[import],  java.util.*; \\n, [import],  java.i...         10           []   \n",
      "18  [[import],  java.util.*; \\n, [import],  java.i...         10           []   \n",
      "19  [[import],  java.util.*; \\n, [import],  java.i...         10           []   \n",
      "20  [[import],  java.util.*; \\n, [import],  java.i...         10           []   \n",
      "21  [import java.util.*; \\nimport java.io.*;\\n\\n, ...         10           []   \n",
      "22  [[import],  java.util.*; \\n, [import],  java.i...         10           []   \n",
      "23  [[import],  java.util.*; \\n, [import],  java.i...         10           []   \n",
      "24  [import java.util.*; \\nimport java.io.*;\\n\\n, ...         10           []   \n",
      "25  [[import],  java.util.*; \\n, [import],  java.i...         10           []   \n",
      "26  [[import],  java.util.*; \\n, [import],  java.i...         10           []   \n",
      "27  [[import],  java.util.*; \\n, [import],  java.i...         10           []   \n",
      "28  [[import],  java.util.*; \\n, [import],  java.i...         10           []   \n",
      "29  [[import],  java.util.*; \\n, [import],  java.i...         10           []   \n",
      "\n",
      "   User_Gender  \n",
      "0           []  \n",
      "1           []  \n",
      "2           []  \n",
      "3           []  \n",
      "4           []  \n",
      "5           []  \n",
      "6           []  \n",
      "7           []  \n",
      "8           []  \n",
      "9           []  \n",
      "10          []  \n",
      "11          []  \n",
      "12          []  \n",
      "13          []  \n",
      "14          []  \n",
      "15          []  \n",
      "16          []  \n",
      "17          []  \n",
      "18          []  \n",
      "19          []  \n",
      "20          []  \n",
      "21          []  \n",
      "22          []  \n",
      "23          []  \n",
      "24          []  \n",
      "25          []  \n",
      "26          []  \n",
      "27          []  \n",
      "28          []  \n",
      "29          []  \n"
     ]
    }
   ],
   "source": [
    "df = pd.DataFrame(clean_data_list)\n",
    "print(df)"
   ]
  },
  {
   "cell_type": "code",
   "execution_count": null,
   "metadata": {},
   "outputs": [],
   "source": []
  }
 ],
 "metadata": {
  "kernelspec": {
   "display_name": "Python 3",
   "language": "python",
   "name": "python3"
  },
  "language_info": {
   "codemirror_mode": {
    "name": "ipython",
    "version": 3
   },
   "file_extension": ".py",
   "mimetype": "text/x-python",
   "name": "python",
   "nbconvert_exporter": "python",
   "pygments_lexer": "ipython3",
   "version": "3.8.3"
  }
 },
 "nbformat": 4,
 "nbformat_minor": 4
}
