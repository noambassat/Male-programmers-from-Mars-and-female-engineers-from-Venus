{
 "cells": [
  {
   "cell_type": "code",
   "execution_count": 1,
   "metadata": {},
   "outputs": [],
   "source": [
    "# pip install selenium\n",
    "# pip install webdriver_manager\n",
    "# pip install nltk\n",
    "# pip install gender_guesser"
   ]
  },
  {
   "cell_type": "code",
   "execution_count": null,
   "metadata": {},
   "outputs": [],
   "source": [
    "\n"
   ]
  },
  {
   "cell_type": "code",
   "execution_count": 2,
   "metadata": {},
   "outputs": [],
   "source": [
    "from selenium import webdriver\n",
    "from selenium.webdriver.common.keys import Keys\n",
    "\n",
    "from webdriver_manager.chrome import ChromeDriverManager\n",
    "from bs4 import BeautifulSoup\n",
    "import pandas as pd\n",
    "import time\n",
    "import gender_guesser.detector as gender"
   ]
  },
  {
   "cell_type": "code",
   "execution_count": 3,
   "metadata": {
    "scrolled": true
   },
   "outputs": [
    {
     "name": "stderr",
     "output_type": "stream",
     "text": [
      "[WDM] - Current google-chrome version is 87.0.4280\n",
      "[WDM] - Get LATEST driver version for 87.0.4280\n",
      "[WDM] - Driver [C:\\Users\\Noam\\.wdm\\drivers\\chromedriver\\win32\\87.0.4280.88\\chromedriver.exe] found in cache\n"
     ]
    },
    {
     "name": "stdout",
     "output_type": "stream",
     "text": [
      " \n"
     ]
    }
   ],
   "source": [
    "driver = webdriver.Chrome(ChromeDriverManager().install())"
   ]
  },
  {
   "cell_type": "code",
   "execution_count": null,
   "metadata": {},
   "outputs": [],
   "source": []
  },
  {
   "cell_type": "code",
   "execution_count": 4,
   "metadata": {},
   "outputs": [],
   "source": [
    "########################################################"
   ]
  },
  {
   "cell_type": "code",
   "execution_count": null,
   "metadata": {},
   "outputs": [],
   "source": []
  },
  {
   "cell_type": "code",
   "execution_count": 5,
   "metadata": {},
   "outputs": [],
   "source": [
    "def Chall_Names_List(driver, soup):\n",
    "    chall_names_list = []\n",
    "\n",
    "    titles = soup.find_all(\"div\",{\"class\":\"challenge-title\"})\n",
    "    for title in titles:\n",
    "        t=title.find('a')['href']\n",
    "        chall_names_list.append(t[13:])\n",
    "        \n",
    "    \n",
    "    return chall_names_list"
   ]
  },
  {
   "cell_type": "code",
   "execution_count": 6,
   "metadata": {},
   "outputs": [],
   "source": [
    "def make_challenges_hrefs_list():\n",
    "    \n",
    "\n",
    "    challenges_href = []\n",
    "    driver.get('https://coderbyte.com/challenges')\n",
    "    driver.find_element_by_css_selector(\"input[name='free']\").click()\n",
    "    \n",
    "    soup = BeautifulSoup(driver.page_source, 'html.parser')\n",
    "    \n",
    "    challenges_names = Chall_Names_List(driver, soup)\n",
    "    \n",
    "    \n",
    "    challs_cards = soup.find_all(\"div\",{\"class\":\"challenge-actions\"})\n",
    "   \n",
    "    for card in challs_cards:\n",
    "      \n",
    "        sol_href = card.find_all('a')\n",
    "      \n",
    "        string_list = str(sol_href).split()\n",
    "        space = False\n",
    "        for string in string_list:\n",
    "            if(space == True):\n",
    "                newString = newString +\"%20\"+ string\n",
    "                if(string[-4:]==\"View\"):\n",
    "                    space = False\n",
    "                    challenges_href.append(newString[:-6])\n",
    "            if(string.find('/solution')!=-1):\n",
    "                space = True\n",
    "                newString = \"https://coderbyte.com/\" + string[6:]\n",
    "                \n",
    "\n",
    "    return challenges_href, challenges_names"
   ]
  },
  {
   "cell_type": "code",
   "execution_count": 7,
   "metadata": {},
   "outputs": [],
   "source": [
    "def make_langs_list():\n",
    "    langs_list = ['Java','C','Python']\n",
    "    \n",
    "    return langs_list"
   ]
  },
  {
   "cell_type": "code",
   "execution_count": 8,
   "metadata": {},
   "outputs": [],
   "source": [
    "Challenges_list = make_challenges_hrefs_list()[0]\n",
    "Challenges_Names = make_challenges_hrefs_list()[1]\n",
    "Languages_list = make_langs_list()\n",
    "\n",
    "# ### Challenges check: ###\n",
    "# print(len(Challenges_list))\n",
    "# for href in Challenges_list:\n",
    "#     print(href)\n",
    "\n",
    "# ### Challenges names check: ###\n",
    "# print(len(Challenges_Names))\n",
    "# for name in Challenges_Names:\n",
    "#     print(name)\n",
    "\n",
    "\n",
    "# ### Languages check: ###\n",
    "# print(len(Languages_list))\n",
    "# for lang in Languages_list:\n",
    "#     print(lang)\n"
   ]
  },
  {
   "cell_type": "code",
   "execution_count": 9,
   "metadata": {},
   "outputs": [],
   "source": [
    "d = gender.Detector()\n",
    "def find_gender(name):\n",
    "    male_prob = 0\n",
    "    female_prob = 0\n",
    "    Gender = \"NaN\"\n",
    "    CAP_name = name[0]\n",
    "    name = name[1:]\n",
    "    CAP_name=CAP_name.capitalize()\n",
    "    name = CAP_name+name\n",
    "    for i in range(len(name)):\n",
    "        if (i<3): continue\n",
    "        name = name[:-1]\n",
    "        if(d.get_gender(name)==\"male\"): male_prob = male_prob +1\n",
    "        if(d.get_gender(name)==\"female\"): female_prob = female_prob +1\n",
    "    if(male_prob>female_prob): Gender = \"male\"\n",
    "    elif(male_prob<female_prob): Gender = \"female\"\n",
    "    return Gender"
   ]
  },
  {
   "cell_type": "code",
   "execution_count": 10,
   "metadata": {},
   "outputs": [],
   "source": [
    "########################################################"
   ]
  },
  {
   "cell_type": "code",
   "execution_count": 11,
   "metadata": {},
   "outputs": [],
   "source": [
    "\n",
    "# def login():   \n",
    "#     driver = webdriver.Chrome(ChromeDriverManager().install())\n",
    "#     url = 'https://www.coderbyte.com/solution/Bracket%20Matcher'\n",
    "#     userName = 'nnnnb'\n",
    "#     password = '12334'\n",
    "#     driver.get(url)\n",
    "#     time.sleep(5)\n",
    "#     driver.find_element_by_class_name(\"login-link\").click()\n",
    "#     time.sleep(2)\n",
    "#     driver.find_element_by_class_name(\"mode-toggle-option\").click()\n",
    "#     time.sleep(1)\n",
    "#     driver.find_element_by_class_name(\"login-field-input\").send_keys(userName)\n",
    "#     time.sleep(1)\n",
    "#     driver.find_element_by_css_selector(\"input[type='password']\").send_keys(password)\n",
    "#     time.sleep(1)\n",
    "#     xpath = '//*[@id=\"login\"]/div/div/div/div[1]/div[3]/button'\n",
    "#     driver.find_element_by_xpath(xpath).click()\n",
    "#     time.sleep(2)\n",
    "\n",
    "\n",
    "\n",
    "\n",
    "    \n",
    "    \n",
    "# def current_Challange_Name(soup):\n",
    "#     url = 'https://www.coderbyte.com/'\n",
    "#     chall = soup.find(\"div\",{\"class\":\"leaderboard-controls\"})\n",
    "#     chall_href = chall.find('a')['href']\n",
    "#     url+=chall_href\n",
    "#  #   print(url)\n",
    "#     chall_driver = webdriver.Chrome(ChromeDriverManager().install())\n",
    "#     chall_driver.get(url)\n",
    "#     chal_html = chall_driver.page_source\n",
    "#     chal_soup = BeautifulSoup(chal_html, 'html.parser')\n",
    "#     chall_div = chal_soup.find(\"div\",{\"class\":\"challenges-wrap\"})\n",
    "#     chall_span = chall_div.find('p').text\n",
    "#     chall_driver.quit() \n",
    "#     return chall_span[6:]\n",
    "       \n",
    "    "
   ]
  },
  {
   "cell_type": "code",
   "execution_count": 12,
   "metadata": {},
   "outputs": [],
   "source": [
    "#login()"
   ]
  },
  {
   "cell_type": "code",
   "execution_count": null,
   "metadata": {},
   "outputs": [],
   "source": []
  },
  {
   "cell_type": "code",
   "execution_count": null,
   "metadata": {},
   "outputs": [],
   "source": []
  },
  {
   "cell_type": "code",
   "execution_count": 13,
   "metadata": {},
   "outputs": [],
   "source": [
    "def selectLang(lang,url):\n",
    "    \n",
    "    driver.get(url)\n",
    "    time.sleep(3)\n",
    "\n",
    "    xpath = '//*[@id=\"challenge_leaderboard\"]/div/div/div[2]/div/div[2]/span'\n",
    "    driver.find_element_by_xpath(xpath).click()\n",
    "    time.sleep(1)\n",
    "    driver.find_element_by_css_selector(\"input[type='text']\").send_keys(lang)\n",
    "    time.sleep(1)\n",
    "    driver.find_element_by_css_selector(\"input[type='text']\").send_keys(Keys.ENTER)\n",
    "\n",
    "\n",
    "\n",
    "    \n",
    "def data_process(html, lang,i):\n",
    "    clean_data_list = []\n",
    "    soup = BeautifulSoup(html, 'html.parser')\n",
    "    cards = soup.find_all(\"div\", {\"class\": \"comment card\"})\n",
    "\n",
    "    for card in cards:\n",
    "        data_dict = {}\n",
    "        sol_code = card.find(\"code\",{\"class\":\"hljs\"})\n",
    "        sol_card = card.find(\"div\",{\"class\":\"submitter\"})\n",
    "        User_name = sol_card.find('a').text\n",
    "        \n",
    "        data_dict['User_Name'] = User_name\n",
    "        data_dict['User_img'] = sol_card.find('img')['src']\n",
    "        data_dict['User_url'] = sol_card.find('a')['href']\n",
    "        data_dict['Challange_Name'] = Challenges_Names[i]\n",
    "        data_dict['Programming_Lang'] = lang\n",
    "        data_dict['Sol_Code'] = sol_code.get_text()\n",
    "        data_dict['User_Score'] = sol_card.find('strong').text.strip()\n",
    "        data_dict[\"User's_Comments\"] = card.find(\"div\",{\"class\":\"comment-score-number\"}).text\n",
    "        \n",
    "        data_dict[\"User_Gender\"] = find_gender(User_name)\n",
    "\n",
    "        \n",
    "        clean_data_list.append(data_dict)\n",
    "    \n",
    "    return clean_data_list"
   ]
  },
  {
   "cell_type": "code",
   "execution_count": 14,
   "metadata": {},
   "outputs": [],
   "source": [
    "def make_df(lang_name,url,i):\n",
    "    selectLang(lang_name,url)\n",
    "    html = driver.page_source\n",
    "    clean_data_list = data_process(html,lang_name,i)\n",
    "    df = pd.DataFrame(clean_data_list)\n",
    "    \n",
    "    return df"
   ]
  },
  {
   "cell_type": "code",
   "execution_count": 15,
   "metadata": {},
   "outputs": [],
   "source": [
    "def df_to_csv(csv_file_name,df):\n",
    "    df.to_csv(csv_file_name)"
   ]
  },
  {
   "cell_type": "code",
   "execution_count": 16,
   "metadata": {
    "scrolled": true
   },
   "outputs": [],
   "source": [
    "csv_file_name = \"\"\n",
    "for c in range(len(Challenges_list)):\n",
    "    url = Challenges_list[c]\n",
    "    csv_file_name = str(c)\n",
    "    for l in range(len(Languages_list)):\n",
    "        lang_name = Languages_list[l]\n",
    "        csv_file_name = csv_file_name + str(l) + \".csv\"\n",
    "        df = make_df(lang_name,url,c)\n",
    "        df_to_csv(csv_file_name,df)\n"
   ]
  },
  {
   "cell_type": "code",
   "execution_count": 17,
   "metadata": {},
   "outputs": [],
   "source": [
    "driver.quit()"
   ]
  },
  {
   "cell_type": "code",
   "execution_count": null,
   "metadata": {
    "scrolled": true
   },
   "outputs": [],
   "source": []
  },
  {
   "cell_type": "code",
   "execution_count": null,
   "metadata": {},
   "outputs": [],
   "source": []
  },
  {
   "cell_type": "code",
   "execution_count": 18,
   "metadata": {},
   "outputs": [],
   "source": [
    "# #מטרות ל9.12\n",

   ]
  },
  {
   "cell_type": "code",
   "execution_count": null,
   "metadata": {},
   "outputs": [],
   "source": []
  },
  {
   "cell_type": "code",
   "execution_count": null,
   "metadata": {},
   "outputs": [],
   "source": []
  },
  {
   "cell_type": "code",
   "execution_count": null,
   "metadata": {
    "scrolled": true
   },
   "outputs": [],
   "source": []
  },
  {
   "cell_type": "code",
   "execution_count": null,
   "metadata": {},
   "outputs": [],
   "source": []
  },
  {
   "cell_type": "code",
   "execution_count": null,
   "metadata": {},
   "outputs": [],
   "source": []
  }
 ],
 "metadata": {
  "kernelspec": {
   "display_name": "Python 3",
   "language": "python",
   "name": "python3"
  },
  "language_info": {
   "codemirror_mode": {
    "name": "ipython",
    "version": 3
   },
   "file_extension": ".py",
   "mimetype": "text/x-python",
   "name": "python",
   "nbconvert_exporter": "python",
   "pygments_lexer": "ipython3",
   "version": "3.8.3"
  }
 },
 "nbformat": 4,
 "nbformat_minor": 4
}
