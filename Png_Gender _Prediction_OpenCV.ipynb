{
 "cells": [
  {
   "cell_type": "code",
   "execution_count": 21,
   "metadata": {},
   "outputs": [],
   "source": [
    "import pandas as pd\n",
    "import numpy as np\n",
    "import requests\n",
    "import cv2\n",
    "import matplotlib.pyplot as plt\n",
    "import urllib.request"
   ]
  },
  {
   "cell_type": "code",
   "execution_count": 22,
   "metadata": {},
   "outputs": [],
   "source": [
    "FileName = \"images_file.csv\"\n",
    "FilePath = 'Images/'\n",
    "\n",
    "df = pd.read_csv('project_data.csv')\n"
   ]
  },
  {
   "cell_type": "code",
   "execution_count": 23,
   "metadata": {
    "scrolled": true
   },
   "outputs": [
    {
     "data": {
      "text/plain": [
       "count     1287\n",
       "unique       2\n",
       "top       Male\n",
       "freq      1008\n",
       "Name: User_Gender, dtype: object"
      ]
     },
     "execution_count": 23,
     "metadata": {},
     "output_type": "execute_result"
    }
   ],
   "source": [
    "df.User_Gender.describe()"
   ]
  },
  {
   "cell_type": "code",
   "execution_count": 24,
   "metadata": {},
   "outputs": [
    {
     "data": {
      "text/plain": [
       "1659"
      ]
     },
     "execution_count": 24,
     "metadata": {},
     "output_type": "execute_result"
    }
   ],
   "source": [
    "df.User_Gender.isnull().sum()"
   ]
  },
  {
   "cell_type": "code",
   "execution_count": 26,
   "metadata": {},
   "outputs": [],
   "source": [
    "def get_gender(image_url, i):\n",
    "\n",
    "    response = requests.get(image_url)\n",
    "    image_name = FilePath + 'ImageNum' + str(i) + '.jpg'\n",
    "#     jpg_images_name.append(image_name)\n",
    "    with open(image_name, 'wb') as file:\n",
    "        file.write(response.content)\n",
    "   \n",
    "    img = cv2.imread(image_name)\n",
    "    final_gender = None\n",
    "\n",
    "    gender = cv2.dnn.readNetFromCaffe(\"gender.prototxt\",\"gender.caffemodel\")\n",
    "    detector_path = \"haarcascade_frontalface_alt.xml\"\n",
    "    detector = cv2.CascadeClassifier(detector_path)\n",
    "    faces = detector.detectMultiScale(img,1.3,5)\n",
    "    if(len(faces)>0):\n",
    "        x, y ,w, h = faces[0]\n",
    "        detected_face = img[int(y):int(y+h), int(x):int(x+w)]\n",
    "        plt.imshow(detected_face[:,:,::-1])\n",
    "        detected_face = cv2.resize(detected_face,(224,224))\n",
    "        detected_face_blob = cv2.dnn.blobFromImage(detected_face)\n",
    "        gender.setInput(detected_face_blob)\n",
    "        gender_result = gender.forward()\n",
    "#         if(detected_face_blob.shape==224,224,3,1):\n",
    "        if(np.argmax(gender_result[0])==0):\n",
    "            final_gender = \"Female\"\n",
    "        else:\n",
    "            final_gender = \"Male\"\n",
    "    return final_gender"
   ]
  },
  {
   "cell_type": "markdown",
   "metadata": {},
   "source": []
  },
  {
   "cell_type": "code",
   "execution_count": null,
   "metadata": {},
   "outputs": [],
   "source": [
    "i = 1\n",
    "for ind in df[df['User_Gender'].isnull()].index:\n",
    "    img = df['User_img'][ind]\n",
    "    image_url = str(img)\n",
    "\n",
    "    gend = get_gender(image_url, i)\n",
    "    if(gend!=None):\n",
    "        df['User_Gender'][ind]=gend\n",
    "    i = i + 1\n",
    "\n"
   ]
  },
  {
   "cell_type": "code",
   "execution_count": 28,
   "metadata": {},
   "outputs": [
    {
     "data": {
      "text/plain": [
       "1639"
      ]
     },
     "execution_count": 28,
     "metadata": {},
     "output_type": "execute_result"
    }
   ],
   "source": [
    "df.User_Gender.isnull().sum()"
   ]
  },
  {
   "cell_type": "code",
   "execution_count": null,
   "metadata": {},
   "outputs": [],
   "source": []
  },
  {
   "cell_type": "code",
   "execution_count": 29,
   "metadata": {},
   "outputs": [
    {
     "data": {
      "text/plain": [
       "count     1307\n",
       "unique       2\n",
       "top       Male\n",
       "freq      1022\n",
       "Name: User_Gender, dtype: object"
      ]
     },
     "execution_count": 29,
     "metadata": {},
     "output_type": "execute_result"
    }
   ],
   "source": [
    "df.User_Gender.describe()"
   ]
  },
  {
   "cell_type": "code",
   "execution_count": 30,
   "metadata": {},
   "outputs": [
    {
     "data": {
      "text/html": [
       "<div>\n",
       "<style scoped>\n",
       "    .dataframe tbody tr th:only-of-type {\n",
       "        vertical-align: middle;\n",
       "    }\n",
       "\n",
       "    .dataframe tbody tr th {\n",
       "        vertical-align: top;\n",
       "    }\n",
       "\n",
       "    .dataframe thead th {\n",
       "        text-align: right;\n",
       "    }\n",
       "</style>\n",
       "<table border=\"1\" class=\"dataframe\">\n",
       "  <thead>\n",
       "    <tr style=\"text-align: right;\">\n",
       "      <th></th>\n",
       "      <th>Unnamed: 0</th>\n",
       "      <th>User_Name</th>\n",
       "      <th>User_img</th>\n",
       "      <th>User_url</th>\n",
       "      <th>Challange_Name</th>\n",
       "      <th>Programming_Lang</th>\n",
       "      <th>Sol_Code</th>\n",
       "      <th>User_Score</th>\n",
       "      <th>User's_Comments</th>\n",
       "      <th>User_Gender</th>\n",
       "    </tr>\n",
       "  </thead>\n",
       "  <tbody>\n",
       "    <tr>\n",
       "      <th>0</th>\n",
       "      <td>0</td>\n",
       "      <td>TomGo</td>\n",
       "      <td>https://s3-us-west-1.amazonaws.com/coderbytepr...</td>\n",
       "      <td>/profile/TomGo</td>\n",
       "      <td>Min Window Substring</td>\n",
       "      <td>Java</td>\n",
       "      <td>import java.util.*; \\nimport java.io.*;\\n\\ncla...</td>\n",
       "      <td>10</td>\n",
       "      <td>5</td>\n",
       "      <td>Male</td>\n",
       "    </tr>\n",
       "    <tr>\n",
       "      <th>1</th>\n",
       "      <td>1</td>\n",
       "      <td>jgrier</td>\n",
       "      <td>https://s3-us-west-1.amazonaws.com/coderbytepr...</td>\n",
       "      <td>/profile/jgrier</td>\n",
       "      <td>Min Window Substring</td>\n",
       "      <td>Java</td>\n",
       "      <td>import java.util.*; \\nimport java.io.*;\\n\\ncla...</td>\n",
       "      <td>10</td>\n",
       "      <td>0</td>\n",
       "      <td>NaN</td>\n",
       "    </tr>\n",
       "    <tr>\n",
       "      <th>2</th>\n",
       "      <td>2</td>\n",
       "      <td>buddhaben</td>\n",
       "      <td>https://s3-us-west-1.amazonaws.com/coderbytepr...</td>\n",
       "      <td>/profile/buddhaben</td>\n",
       "      <td>Min Window Substring</td>\n",
       "      <td>Java</td>\n",
       "      <td>import java.util.*; \\nimport java.io.*;\\n\\ncla...</td>\n",
       "      <td>9</td>\n",
       "      <td>0</td>\n",
       "      <td>Male</td>\n",
       "    </tr>\n",
       "    <tr>\n",
       "      <th>3</th>\n",
       "      <td>3</td>\n",
       "      <td>dumel20</td>\n",
       "      <td>https://s3-us-west-1.amazonaws.com/coderbytepr...</td>\n",
       "      <td>/profile/dumel20</td>\n",
       "      <td>Min Window Substring</td>\n",
       "      <td>Java</td>\n",
       "      <td>import java.util.*; \\nimport java.io.*;\\n\\ncla...</td>\n",
       "      <td>10</td>\n",
       "      <td>0</td>\n",
       "      <td>NaN</td>\n",
       "    </tr>\n",
       "    <tr>\n",
       "      <th>4</th>\n",
       "      <td>4</td>\n",
       "      <td>sameerkhan2k1</td>\n",
       "      <td>https://s3-us-west-1.amazonaws.com/coderbytepr...</td>\n",
       "      <td>/profile/sameerkhan2k1</td>\n",
       "      <td>Min Window Substring</td>\n",
       "      <td>Java</td>\n",
       "      <td>import java.util.*; \\nimport java.io.*;\\n\\ncla...</td>\n",
       "      <td>9</td>\n",
       "      <td>0</td>\n",
       "      <td>Male</td>\n",
       "    </tr>\n",
       "    <tr>\n",
       "      <th>...</th>\n",
       "      <td>...</td>\n",
       "      <td>...</td>\n",
       "      <td>...</td>\n",
       "      <td>...</td>\n",
       "      <td>...</td>\n",
       "      <td>...</td>\n",
       "      <td>...</td>\n",
       "      <td>...</td>\n",
       "      <td>...</td>\n",
       "      <td>...</td>\n",
       "    </tr>\n",
       "    <tr>\n",
       "      <th>2941</th>\n",
       "      <td>2941</td>\n",
       "      <td>mpalm1234</td>\n",
       "      <td>https://s3-us-west-1.amazonaws.com/coderbytepr...</td>\n",
       "      <td>/profile/mpalm1234</td>\n",
       "      <td>SQL Member Count</td>\n",
       "      <td>Swift</td>\n",
       "      <td>/* write your SQL query below */\\n\\nSELECT Rep...</td>\n",
       "      <td>10</td>\n",
       "      <td>0</td>\n",
       "      <td>NaN</td>\n",
       "    </tr>\n",
       "    <tr>\n",
       "      <th>2942</th>\n",
       "      <td>2942</td>\n",
       "      <td>mag31903034</td>\n",
       "      <td>https://s3-us-west-1.amazonaws.com/coderbytepr...</td>\n",
       "      <td>/profile/mag31903034</td>\n",
       "      <td>SQL Member Count</td>\n",
       "      <td>Swift</td>\n",
       "      <td>/* write your SQL query below */\\nSELECT a.rep...</td>\n",
       "      <td>10</td>\n",
       "      <td>-1</td>\n",
       "      <td>NaN</td>\n",
       "    </tr>\n",
       "    <tr>\n",
       "      <th>2943</th>\n",
       "      <td>2943</td>\n",
       "      <td>Hucast734</td>\n",
       "      <td>https://s3-us-west-1.amazonaws.com/coderbytepr...</td>\n",
       "      <td>/profile/Hucast734</td>\n",
       "      <td>SQL Member Count</td>\n",
       "      <td>Swift</td>\n",
       "      <td>/* write your SQL query below */\\nSELECT * FRO...</td>\n",
       "      <td>10</td>\n",
       "      <td>-1</td>\n",
       "      <td>NaN</td>\n",
       "    </tr>\n",
       "    <tr>\n",
       "      <th>2944</th>\n",
       "      <td>2944</td>\n",
       "      <td>Balaji468</td>\n",
       "      <td>https://s3-us-west-1.amazonaws.com/coderbytepr...</td>\n",
       "      <td>/profile/Balaji468</td>\n",
       "      <td>SQL Member Count</td>\n",
       "      <td>Swift</td>\n",
       "      <td>/* write your SQL query below */\\n\\n\\nSELECT R...</td>\n",
       "      <td>10</td>\n",
       "      <td>-1</td>\n",
       "      <td>NaN</td>\n",
       "    </tr>\n",
       "    <tr>\n",
       "      <th>2945</th>\n",
       "      <td>2945</td>\n",
       "      <td>aragonne</td>\n",
       "      <td>https://s3-us-west-1.amazonaws.com/coderbytepr...</td>\n",
       "      <td>/profile/aragonne</td>\n",
       "      <td>SQL Member Count</td>\n",
       "      <td>Swift</td>\n",
       "      <td>/* write your SQL query below */\\n\\n# SELECT *...</td>\n",
       "      <td>10</td>\n",
       "      <td>-1</td>\n",
       "      <td>Male</td>\n",
       "    </tr>\n",
       "  </tbody>\n",
       "</table>\n",
       "<p>2946 rows × 10 columns</p>\n",
       "</div>"
      ],
      "text/plain": [
       "      Unnamed: 0      User_Name  \\\n",
       "0              0          TomGo   \n",
       "1              1         jgrier   \n",
       "2              2      buddhaben   \n",
       "3              3        dumel20   \n",
       "4              4  sameerkhan2k1   \n",
       "...          ...            ...   \n",
       "2941        2941      mpalm1234   \n",
       "2942        2942    mag31903034   \n",
       "2943        2943      Hucast734   \n",
       "2944        2944      Balaji468   \n",
       "2945        2945       aragonne   \n",
       "\n",
       "                                               User_img  \\\n",
       "0     https://s3-us-west-1.amazonaws.com/coderbytepr...   \n",
       "1     https://s3-us-west-1.amazonaws.com/coderbytepr...   \n",
       "2     https://s3-us-west-1.amazonaws.com/coderbytepr...   \n",
       "3     https://s3-us-west-1.amazonaws.com/coderbytepr...   \n",
       "4     https://s3-us-west-1.amazonaws.com/coderbytepr...   \n",
       "...                                                 ...   \n",
       "2941  https://s3-us-west-1.amazonaws.com/coderbytepr...   \n",
       "2942  https://s3-us-west-1.amazonaws.com/coderbytepr...   \n",
       "2943  https://s3-us-west-1.amazonaws.com/coderbytepr...   \n",
       "2944  https://s3-us-west-1.amazonaws.com/coderbytepr...   \n",
       "2945  https://s3-us-west-1.amazonaws.com/coderbytepr...   \n",
       "\n",
       "                    User_url        Challange_Name Programming_Lang  \\\n",
       "0             /profile/TomGo  Min Window Substring             Java   \n",
       "1            /profile/jgrier  Min Window Substring             Java   \n",
       "2         /profile/buddhaben  Min Window Substring             Java   \n",
       "3           /profile/dumel20  Min Window Substring             Java   \n",
       "4     /profile/sameerkhan2k1  Min Window Substring             Java   \n",
       "...                      ...                   ...              ...   \n",
       "2941      /profile/mpalm1234      SQL Member Count            Swift   \n",
       "2942    /profile/mag31903034      SQL Member Count            Swift   \n",
       "2943      /profile/Hucast734      SQL Member Count            Swift   \n",
       "2944      /profile/Balaji468      SQL Member Count            Swift   \n",
       "2945       /profile/aragonne      SQL Member Count            Swift   \n",
       "\n",
       "                                               Sol_Code  User_Score  \\\n",
       "0     import java.util.*; \\nimport java.io.*;\\n\\ncla...          10   \n",
       "1     import java.util.*; \\nimport java.io.*;\\n\\ncla...          10   \n",
       "2     import java.util.*; \\nimport java.io.*;\\n\\ncla...           9   \n",
       "3     import java.util.*; \\nimport java.io.*;\\n\\ncla...          10   \n",
       "4     import java.util.*; \\nimport java.io.*;\\n\\ncla...           9   \n",
       "...                                                 ...         ...   \n",
       "2941  /* write your SQL query below */\\n\\nSELECT Rep...          10   \n",
       "2942  /* write your SQL query below */\\nSELECT a.rep...          10   \n",
       "2943  /* write your SQL query below */\\nSELECT * FRO...          10   \n",
       "2944  /* write your SQL query below */\\n\\n\\nSELECT R...          10   \n",
       "2945  /* write your SQL query below */\\n\\n# SELECT *...          10   \n",
       "\n",
       "      User's_Comments User_Gender  \n",
       "0                   5        Male  \n",
       "1                   0         NaN  \n",
       "2                   0        Male  \n",
       "3                   0         NaN  \n",
       "4                   0        Male  \n",
       "...               ...         ...  \n",
       "2941                0         NaN  \n",
       "2942               -1         NaN  \n",
       "2943               -1         NaN  \n",
       "2944               -1         NaN  \n",
       "2945               -1        Male  \n",
       "\n",
       "[2946 rows x 10 columns]"
      ]
     },
     "execution_count": 30,
     "metadata": {},
     "output_type": "execute_result"
    }
   ],
   "source": [
    "df"
   ]
  },
  {
   "cell_type": "code",
   "execution_count": 50,
   "metadata": {},
   "outputs": [],
   "source": [
    "\n",
    "df.to_csv(\"project_data.csv\")\n"
   ]
  },
  {
   "cell_type": "markdown",
   "metadata": {},
   "source": [
    "## "
   ]
  },
  {
   "cell_type": "code",
   "execution_count": null,
   "metadata": {},
   "outputs": [],
   "source": []
  }
 ],
 "metadata": {
  "kernelspec": {
   "display_name": "Python 3",
   "language": "python",
   "name": "python3"
  },
  "language_info": {
   "codemirror_mode": {
    "name": "ipython",
    "version": 3
   },
   "file_extension": ".py",
   "mimetype": "text/x-python",
   "name": "python",
   "nbconvert_exporter": "python",
   "pygments_lexer": "ipython3",
   "version": "3.8.3"
  }
 },
 "nbformat": 4,
 "nbformat_minor": 4
}
